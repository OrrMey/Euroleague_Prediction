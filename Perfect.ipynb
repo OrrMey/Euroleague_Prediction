{
 "cells": [
  {
   "cell_type": "markdown",
   "metadata": {},
   "source": [
    "# Libraries"
   ]
  },
  {
   "cell_type": "code",
   "execution_count": 3,
   "metadata": {},
   "outputs": [],
   "source": [
    "import time\n",
    "import math\n",
    "import os\n",
    "from collections import Counter\n",
    "\n",
    "# Data Analysis\n",
    "import numpy as np\n",
    "import pandas as pd\n",
    "import requests\n",
    "import bs4\n",
    "from bs4 import BeautifulSoup\n",
    "\n",
    "# Visualation\n",
    "import matplotlib as mpl\n",
    "import seaborn as sns\n",
    "from matplotlib import pyplot as plt\n",
    "%matplotlib inline  \n",
    "plt.rcParams['figure.figsize'] = (10, 6)\n",
    "from mpl_toolkits.mplot3d import Axes3D\n",
    "from matplotlib import cm\n",
    "\n",
    "# Machine learning\n",
    "import sklearn\n",
    "from sklearn.model_selection import train_test_split\n",
    "\n",
    "from sklearn import linear_model\n",
    "from sklearn.model_selection import GridSearchCV\n",
    "\n",
    "from sklearn.model_selection import cross_val_score\n",
    "\n",
    " # KNN\n",
    "from sklearn.neighbors import KNeighborsClassifier\n",
    "\n",
    "\n",
    "from sklearn import metrics\n",
    "from sklearn.metrics import accuracy_score, precision_score, recall_score, f1_score, confusion_matrix\n",
    "from sklearn.metrics import make_scorer\n",
    "\n",
    "# Supervised Learning\n",
    "from sklearn import linear_model, metrics, preprocessing\n",
    "from sklearn.preprocessing import StandardScaler, MinMaxScaler\n",
    "from sklearn.linear_model import LogisticRegression, LinearRegression ,LogisticRegressionCV\n",
    "\n",
    "# Naive\n",
    "from sklearn.naive_bayes import GaussianNB\n",
    "\n",
    "#decision_tree\n",
    "\n",
    "from sklearn import tree\n",
    "from sklearn.tree import DecisionTreeClassifier"
   ]
  },
  {
   "cell_type": "markdown",
   "metadata": {},
   "source": [
    "# Crawllers and Scraping Funcs"
   ]
  },
  {
   "cell_type": "code",
   "execution_count": 52,
   "metadata": {},
   "outputs": [],
   "source": [
    "# Function that sent request and return soup object if response 200\n",
    "\n",
    "def load_soup_object(url):\n",
    "    response = requests.get(url, headers = {\"user-agent\": \"Mozilla/5.0 (X11; Linux x86_64; rv:83.0) Gecko/20100101 Firefox/83.0\"})\n",
    "    if(response.status_code != 200):\n",
    "        print(\"Error,can't get this url\", response.status_code,\"\\n\")\n",
    "        exit(1)\n",
    "    soup = BeautifulSoup(response.content,'html.parser')\n",
    "    return soup\n"
   ]
  },
  {
   "cell_type": "code",
   "execution_count": 53,
   "metadata": {},
   "outputs": [],
   "source": [
    "# From the main page we crawl to the schedule of euroleague\n",
    "# And return soup object of the relevant page\n",
    "\n",
    "def get_schedules_object(soup):\n",
    "    euro_link = soup.find_all('a', {'title':\"Schedule\"})\n",
    "    \n",
    "    for link in euro_link:\n",
    "        if 'euro' in link['href']:\n",
    "            soup_sch = load_soup_object(url + link['href'])\n",
    "            \n",
    "    return soup_sch\n"
   ]
  },
  {
   "cell_type": "code",
   "execution_count": 54,
   "metadata": {},
   "outputs": [],
   "source": [
    "# From the soup object that contain the schedules we extract the year list urls\n",
    "\n",
    "def years_list_schedule(soup_sch):\n",
    "    years_list = []\n",
    "    years =  soup_sch.find('div', class_='card card-body')\n",
    "    \n",
    "    for year in years.find_all('a'):\n",
    "        years_list.append(url + year['href'])\n",
    "        \n",
    "    return years_list\n"
   ]
  },
  {
   "cell_type": "code",
   "execution_count": 55,
   "metadata": {},
   "outputs": [],
   "source": [
    "# From  each year extract all the pages\n",
    "# Schedules is a soup object of the first page of evrey year\n",
    "def pages_list(schedules):\n",
    "    lst = []\n",
    "    pages = schedules.find_all('a',class_='pagination-link')\n",
    "    flag = 1\n",
    "    \n",
    "    for page in pages:\n",
    "        if flag != 1:\n",
    "            lst.append(url + page['href'])\n",
    "        flag+=1\n",
    "    flag =1\n",
    "    \n",
    "    return lst"
   ]
  },
  {
   "cell_type": "code",
   "execution_count": 56,
   "metadata": {},
   "outputs": [],
   "source": [
    "# Scraping the tables from each page into dataframe\n",
    "\n",
    "def scrape_page(df,page):\n",
    "    \n",
    "    for table in page:\n",
    "        df = pd.concat([df,table])\n",
    "        \n",
    "    return df"
   ]
  },
  {
   "cell_type": "markdown",
   "metadata": {},
   "source": [
    "### proballers web "
   ]
  },
  {
   "cell_type": "code",
   "execution_count": null,
   "metadata": {},
   "outputs": [],
   "source": [
    "# Web url\n",
    "BASE = 'https://www.proballers.com'\n",
    "url = BASE\n",
    "\n",
    "# Loading the main page\n",
    "soup = load_soup_object(url)\n",
    "\n",
    "# Pass to the schedules page in the web\n",
    "soup_sch = get_schedules_object(soup)\n",
    "\n",
    "# Get the url's of every year schedule\n",
    "years_list = years_list_schedule(soup_sch)\n",
    "\n",
    "# Creat data frame\n",
    "df = pd.DataFrame()\n",
    "\n",
    "# List of dataframes from every year\n",
    "list_of_df = {}\n",
    "\n",
    "# The years we want\n",
    "years = [x for x in range(2021,2000,-1)]"
   ]
  },
  {
   "cell_type": "code",
   "execution_count": null,
   "metadata": {
    "scrolled": true
   },
   "outputs": [],
   "source": [
    "# Crawl every year and scrape the schedule from all the pages\n",
    "\n",
    "for year,i in zip(years_list,years):\n",
    "    print(\"scrape\\n\",year)\n",
    "    time.sleep(10)\n",
    "    # Read_html to get the all tables from the page\n",
    "    page = pd.read_html(year)\n",
    "    # Load_soup object to crawl over the pages\n",
    "    page_soup = load_soup_object(year)\n",
    "    \n",
    "    # Scrape the page- concat all the tables\n",
    "    df = scrape_page(df,page)\n",
    "    \n",
    "    # list of the urls of the pages\n",
    "    page_list = pages_list(page_soup)\n",
    "    \n",
    "    # Checking for more pages,if there is then crawl and scrape them\n",
    "    for pg in page_list:\n",
    "        print(\"scrape\\n\",pg)\n",
    "        time.sleep(10)\n",
    "        page = pd.read_html(pg)\n",
    "        df = scrape_page(df,page)\n",
    "        \n",
    "    # df is a full year schedule, now list_of_df will contain every year\n",
    "    list_of_df[i] = df\n",
    "    df = df[0:0]\n",
    "    print(\"Successful scrape\",i,\"\\n\")\n",
    "    "
   ]
  },
  {
   "cell_type": "markdown",
   "metadata": {},
   "source": [
    "##### Save"
   ]
  },
  {
   "cell_type": "code",
   "execution_count": null,
   "metadata": {},
   "outputs": [],
   "source": [
    "# Save to csv\n",
    "# Key is the year and val is the dataframe of the year\n",
    "# Save the dataframe to csv , format will change the year in the name\n",
    "for key, val in list_of_df.items():\n",
    "    val.to_csv(r'C:\\Users\\or meyuchas\\JupyterProject\\Data_Sience_project\\data\\Schedule_{}.csv'.format(str(key)), index = False)"
   ]
  },
  {
   "cell_type": "markdown",
   "metadata": {},
   "source": [
    "##### Load"
   ]
  },
  {
   "cell_type": "code",
   "execution_count": 5,
   "metadata": {},
   "outputs": [],
   "source": [
    "# Upload the list_of_df\n",
    "years = [x for x in range(2021,2000,-1)]\n",
    "list_of_df = {}\n",
    "for key in years:\n",
    "    list_of_df[key]= pd.read_csv(r'C:\\Users\\or meyuchas\\JupyterProject\\Data_Sience_project\\data\\Schedule_{}.csv'.format(str(key)))"
   ]
  },
  {
   "cell_type": "markdown",
   "metadata": {},
   "source": [
    "# Clean the data & Preper the data"
   ]
  },
  {
   "cell_type": "code",
   "execution_count": 58,
   "metadata": {},
   "outputs": [],
   "source": [
    "# Reset index\n",
    "\n",
    "for index in years:\n",
    "    list_of_df[index] = list_of_df[index].reset_index(drop=True)\n",
    "    "
   ]
  },
  {
   "cell_type": "code",
   "execution_count": 59,
   "metadata": {},
   "outputs": [
    {
     "name": "stdout",
     "output_type": "stream",
     "text": [
      "Droped 0 of duplicated rows\n"
     ]
    }
   ],
   "source": [
    "# Remove duplicates rows from each year\n",
    "\n",
    "count = 0\n",
    "for year in years:\n",
    "    list_of_df[year] = list_of_df[year].drop_duplicates()\n",
    "    count += len(list_of_df[year])-len(list_of_df[year].drop_duplicates())\n",
    "print(\"Droped\",count,\"of duplicated rows\")\n"
   ]
  },
  {
   "cell_type": "code",
   "execution_count": 60,
   "metadata": {},
   "outputs": [],
   "source": [
    "# Fix the date format in every dataframe\n",
    "\n",
    "for year in years:\n",
    "    list_of_df[year]['Day']= pd.to_datetime(list_of_df[year]['Day'], format='%b/%d/%Y',infer_datetime_format=True)"
   ]
  },
  {
   "cell_type": "code",
   "execution_count": 92,
   "metadata": {},
   "outputs": [],
   "source": [
    "for year in years:\n",
    "    list_of_df[year] = list_of_df[year].sort_values(by ='Day', ascending = 0).reset_index(drop=True)\n"
   ]
  },
  {
   "cell_type": "markdown",
   "metadata": {},
   "source": [
    "##### after i scraped every schedule of every year to \"list_of_df\" i did few steps:\n",
    "###### 1. fix the score column that given like that 'X - Y' , and as str, to 2 columns:\n",
    "######     one for the home team and one for the away team, and save the score as float.\n",
    "###### 2. creat new column for the winner team in the game\n"
   ]
  },
  {
   "cell_type": "code",
   "execution_count": 62,
   "metadata": {},
   "outputs": [],
   "source": [
    "# The score column is a string of the match\n",
    "# Split the 'Score' column into two arrays\n",
    "# Creat new two column with score for each team\n",
    "# Convert the score to integers\n",
    "\n",
    "def score(df):\n",
    "    list_1 = df['Score'].str.split('-')\n",
    "    team_A_score = []\n",
    "    team_B_score = []\n",
    "    \n",
    "    for index in list_1:\n",
    "        if type(index) != float:\n",
    "            team_A_score.append(int(index[0]))\n",
    "            team_B_score.append(int(index[1]))\n",
    "        else:\n",
    "            team_A_score.append(0)\n",
    "            team_B_score.append(0)\n",
    "        \n",
    "    df['team_A_score'] = team_A_score\n",
    "    df['team_B_score'] = team_B_score\n",
    "    df = df.drop(['Score'], axis=1)\n",
    "    return df\n"
   ]
  },
  {
   "cell_type": "code",
   "execution_count": 63,
   "metadata": {},
   "outputs": [],
   "source": [
    "# Creat new column of the winner team\n",
    "\n",
    "def winner(df):\n",
    "    winner_team = []\n",
    "    row = 0\n",
    "    \n",
    "    for i,j in zip(df['team_A_score'],df['team_B_score']):\n",
    "        if i > j:\n",
    "            winner_team.append(df['Team 1'][row])\n",
    "        elif j > i:\n",
    "            winner_team.append(df['Team 2'][row])\n",
    "        else:\n",
    "            winner_team.append('None')\n",
    "        row += 1\n",
    "    df['winner_team']=winner_team\n",
    "    \n",
    "    return df\n"
   ]
  },
  {
   "cell_type": "code",
   "execution_count": 64,
   "metadata": {},
   "outputs": [],
   "source": [
    "# Combain the functions 'score' and 'winner' and implementation\n",
    "for index in years:\n",
    "    df = list_of_df[index]\n",
    "    df = score(df)\n",
    "    df = winner(df)\n",
    "    list_of_df[index] = df"
   ]
  },
  {
   "cell_type": "code",
   "execution_count": 10,
   "metadata": {},
   "outputs": [
    {
     "data": {
      "text/html": [
       "<div>\n",
       "<style scoped>\n",
       "    .dataframe tbody tr th:only-of-type {\n",
       "        vertical-align: middle;\n",
       "    }\n",
       "\n",
       "    .dataframe tbody tr th {\n",
       "        vertical-align: top;\n",
       "    }\n",
       "\n",
       "    .dataframe thead th {\n",
       "        text-align: right;\n",
       "    }\n",
       "</style>\n",
       "<table border=\"1\" class=\"dataframe\">\n",
       "  <thead>\n",
       "    <tr style=\"text-align: right;\">\n",
       "      <th></th>\n",
       "      <th>League</th>\n",
       "      <th>Day</th>\n",
       "      <th>Team 1</th>\n",
       "      <th>Team 2</th>\n",
       "      <th>Score</th>\n",
       "    </tr>\n",
       "  </thead>\n",
       "  <tbody>\n",
       "    <tr>\n",
       "      <th>0</th>\n",
       "      <td>Euroleague</td>\n",
       "      <td>Oct 1, 2020</td>\n",
       "      <td>Anadolu Efes</td>\n",
       "      <td>Zenit St. Petersburg</td>\n",
       "      <td>69 - 73</td>\n",
       "    </tr>\n",
       "    <tr>\n",
       "      <th>1</th>\n",
       "      <td>Euroleague</td>\n",
       "      <td>Oct 1, 2020</td>\n",
       "      <td>Olympiacos</td>\n",
       "      <td>Zalgiris</td>\n",
       "      <td>67 - 68</td>\n",
       "    </tr>\n",
       "    <tr>\n",
       "      <th>2</th>\n",
       "      <td>Euroleague</td>\n",
       "      <td>Oct 1, 2020</td>\n",
       "      <td>Maccabi Playtika Tel Aviv</td>\n",
       "      <td>Alba Berlin</td>\n",
       "      <td>80 - 73</td>\n",
       "    </tr>\n",
       "    <tr>\n",
       "      <th>3</th>\n",
       "      <td>Euroleague</td>\n",
       "      <td>Oct 1, 2020</td>\n",
       "      <td>F.C. Barcelona</td>\n",
       "      <td>CSKA Moscow</td>\n",
       "      <td>76 - 66</td>\n",
       "    </tr>\n",
       "    <tr>\n",
       "      <th>4</th>\n",
       "      <td>Euroleague</td>\n",
       "      <td>Oct 1, 2020</td>\n",
       "      <td>Valencia</td>\n",
       "      <td>LDLC ASVEL</td>\n",
       "      <td>65 - 63</td>\n",
       "    </tr>\n",
       "    <tr>\n",
       "      <th>5</th>\n",
       "      <td>Euroleague</td>\n",
       "      <td>Oct 2, 2020</td>\n",
       "      <td>Fenerbahce</td>\n",
       "      <td>Crvena zvezda mts</td>\n",
       "      <td>77 - 63</td>\n",
       "    </tr>\n",
       "    <tr>\n",
       "      <th>6</th>\n",
       "      <td>Euroleague</td>\n",
       "      <td>Oct 2, 2020</td>\n",
       "      <td>Khimki Moscow Region</td>\n",
       "      <td>Panathinaikos</td>\n",
       "      <td>76 - 78</td>\n",
       "    </tr>\n",
       "    <tr>\n",
       "      <th>7</th>\n",
       "      <td>Euroleague</td>\n",
       "      <td>Oct 2, 2020</td>\n",
       "      <td>FC Bayern München</td>\n",
       "      <td>AX Armani Exchange Milano</td>\n",
       "      <td>79 - 81</td>\n",
       "    </tr>\n",
       "  </tbody>\n",
       "</table>\n",
       "</div>"
      ],
      "text/plain": [
       "       League          Day                     Team 1  \\\n",
       "0  Euroleague  Oct 1, 2020               Anadolu Efes   \n",
       "1  Euroleague  Oct 1, 2020                 Olympiacos   \n",
       "2  Euroleague  Oct 1, 2020  Maccabi Playtika Tel Aviv   \n",
       "3  Euroleague  Oct 1, 2020             F.C. Barcelona   \n",
       "4  Euroleague  Oct 1, 2020                   Valencia   \n",
       "5  Euroleague  Oct 2, 2020                 Fenerbahce   \n",
       "6  Euroleague  Oct 2, 2020       Khimki Moscow Region   \n",
       "7  Euroleague  Oct 2, 2020          FC Bayern München   \n",
       "\n",
       "                      Team 2    Score  \n",
       "0       Zenit St. Petersburg  69 - 73  \n",
       "1                   Zalgiris  67 - 68  \n",
       "2                Alba Berlin  80 - 73  \n",
       "3                CSKA Moscow  76 - 66  \n",
       "4                 LDLC ASVEL  65 - 63  \n",
       "5          Crvena zvezda mts  77 - 63  \n",
       "6              Panathinaikos  76 - 78  \n",
       "7  AX Armani Exchange Milano  79 - 81  "
      ]
     },
     "execution_count": 10,
     "metadata": {},
     "output_type": "execute_result"
    }
   ],
   "source": [
    "list_of_df[2021][:8]"
   ]
  },
  {
   "cell_type": "markdown",
   "metadata": {},
   "source": [
    "##### Last 10 games record calculate for every team\n"
   ]
  },
  {
   "cell_type": "code",
   "execution_count": 65,
   "metadata": {},
   "outputs": [],
   "source": [
    "# Get Team name and return DataFrame for only this team for specific season\n",
    "\n",
    "def split_team(list_of_df, year , team_name):\n",
    "    df_team = list_of_df[year][list_of_df[year]['Team 1'].str.contains(team_name) | list_of_df[year]['Team 2'].str.contains(team_name)]\n",
    "    df_team = df_team.reset_index(drop=True)\n",
    "    return df_team\n",
    "    "
   ]
  },
  {
   "cell_type": "code",
   "execution_count": 66,
   "metadata": {},
   "outputs": [],
   "source": [
    "#last 10 games of team1 - get 'dataframe', team name , year of the game, date of the game as a string like that 'year-month-day'\n",
    "# calling 'split_team' function\n",
    "\n",
    "def team1_last_ten_games(list_of_df,team12,year,date):\n",
    "    df_team12 = pd.DataFrame()\n",
    "    rng = []\n",
    "    if (year < 2001) | (year > 2021):\n",
    "        print(\"Error year\\n\")\n",
    "        return False\n",
    "    elif year == 2001:\n",
    "        rng.append(year) \n",
    "    elif year == 2002:\n",
    "        rng.append(2002)\n",
    "        rng.append(2001)\n",
    "    else:\n",
    "        for i in range(year,year - 3, -1):\n",
    "            rng.append(i)\n",
    "    for j in rng:\n",
    "        te = split_team(list_of_df,j , team12)\n",
    "        df_team12 = pd.concat([df_team12,te])\n",
    "    df_team12 = df_team12.sort_values(by ='Day', ascending = 0).reset_index(drop=True)\n",
    "    df_team12 = df_team12[(df_team12['Day'] < date)].iloc[:10].reset_index(drop=True)\n",
    "    \n",
    "    return df_team12\n"
   ]
  },
  {
   "cell_type": "code",
   "execution_count": 67,
   "metadata": {},
   "outputs": [],
   "source": [
    "# count number of winning game\n",
    "\n",
    "def count_wins(df,team):\n",
    "    count = 0\n",
    "    for home,away,hp,ap in zip(df['Team 1'],df['Team 2'],df['team_A_score'],df['team_B_score']):\n",
    "        if home == team:\n",
    "            if hp > ap:\n",
    "                count+=1\n",
    "        else:\n",
    "            if ap > hp:\n",
    "                count+=1\n",
    "    return count\n"
   ]
  },
  {
   "cell_type": "code",
   "execution_count": 68,
   "metadata": {},
   "outputs": [],
   "source": [
    "# count number of losing game\n",
    "\n",
    "def count_lose(df,team):\n",
    "    count = 0\n",
    "    for home,away,hp,ap in zip(df['Team 1'],df['Team 2'],df['team_A_score'],df['team_B_score']):\n",
    "        if home == team:\n",
    "            if hp < ap:\n",
    "                count+=1\n",
    "        else:\n",
    "            if ap < hp:\n",
    "                count+=1\n",
    "    return count\n"
   ]
  },
  {
   "cell_type": "code",
   "execution_count": 69,
   "metadata": {},
   "outputs": [],
   "source": [
    "# count number of positive points\n",
    "\n",
    "def count_positive_when_win(df,team):\n",
    "    count = 0\n",
    "    for home,away,hp,ap in zip(df['Team 1'],df['Team 2'],df['team_A_score'],df['team_B_score']):\n",
    "        if home == team:\n",
    "            if hp > ap:\n",
    "                count+=hp\n",
    "        else:\n",
    "            if ap > hp:\n",
    "                count+=ap\n",
    "    return count\n",
    "\n",
    "def count_positive_when_lose(df,team):\n",
    "    count = 0\n",
    "    for home,away,hp,ap in zip(df['Team 1'],df['Team 2'],df['team_A_score'],df['team_B_score']):\n",
    "        if home == team:\n",
    "            if hp < ap:\n",
    "                count+=hp\n",
    "        else:\n",
    "            if ap < hp:\n",
    "                count+=ap\n",
    "    return count\n"
   ]
  },
  {
   "cell_type": "code",
   "execution_count": 70,
   "metadata": {},
   "outputs": [],
   "source": [
    "# count number of negative points\n",
    "\n",
    "def count_negative_when_win(df,team):\n",
    "    count = 0\n",
    "    for home,away,hp,ap in zip(df['Team 1'],df['Team 2'],df['team_A_score'],df['team_B_score']):\n",
    "        if home == team:\n",
    "            if hp > ap:\n",
    "                count+=ap\n",
    "        else:\n",
    "            if ap > hp:\n",
    "                count+=hp\n",
    "    return count\n",
    "\n",
    "def count_negative_when_lose(df,team):\n",
    "    count = 0\n",
    "    for home,away,hp,ap in zip(df['Team 1'],df['Team 2'],df['team_A_score'],df['team_B_score']):\n",
    "        if home == team:\n",
    "            if hp < ap:\n",
    "                count+=ap\n",
    "        else:\n",
    "            if ap < hp:\n",
    "                count+=hp\n",
    "    return count"
   ]
  },
  {
   "cell_type": "code",
   "execution_count": 71,
   "metadata": {},
   "outputs": [],
   "source": [
    "\n",
    "def last_ten_static(df,team):\n",
    "    data = {'Tgames':[],'Wgames':[],'Lgames':[],'W%':[],'L%':[],\n",
    "            'Ppoints':[],'Npoints':[],'PPPWG':[],'NPPWG':[],'PPPLG':[],'NPPLG':[],\n",
    "            'DiffT':[],'DiffW':[],'DiffL':[],'Ratio':[]}\n",
    "    pppwg = count_positive_when_win(df,team)\n",
    "    ppplg = count_positive_when_lose(df,team)\n",
    "    nppwg = count_negative_when_win(df,team)\n",
    "    npplg = count_negative_when_lose(df,team)\n",
    "    np =  nppwg + npplg\n",
    "    pp =  pppwg + ppplg\n",
    "    w = count_wins(df,team)\n",
    "    l = count_lose(df,team)\n",
    "    if (w==0) | (l==0):\n",
    "        for i in data.keys():\n",
    "            data[i].append(0)\n",
    "    else:\n",
    "        data['Tgames'].append(w+l)\n",
    "        data['Wgames'].append(w)\n",
    "        data['Lgames'].append(l)\n",
    "        data['W%'].append(round((w/(w+l))*100,2))\n",
    "        data['L%'].append(round((l/(w+l))*100,2))\n",
    "        data['Ppoints'].append(pp)\n",
    "        data['Npoints'].append(np)\n",
    "        data['PPPWG'].append(round(pppwg/w,2))\n",
    "        data['NPPWG'].append(round(nppwg/w,2))\n",
    "        data['PPPLG'].append(round(ppplg/l,2))\n",
    "        data['NPPLG'].append(round(npplg/l,2))\n",
    "        data['DiffT'].append(pp-np)\n",
    "        data['DiffW'].append(round(pppwg/w,2)-round(nppwg/w,2))\n",
    "        data['DiffL'].append(round(ppplg/l,2)-round(npplg/l,2))\n",
    "        data['Ratio'].append(pp/np)\n",
    "    final = pd.DataFrame(data)\n",
    "    return final"
   ]
  },
  {
   "cell_type": "code",
   "execution_count": 72,
   "metadata": {},
   "outputs": [],
   "source": [
    "# Get df to calculate and list_of_df to search the last 10 games\n",
    "# Take row, get the teams names and the date and search for last 10 games in max last 3 years\n",
    "# Calculate statistics of the last 10 for each team and attach it to the row and return\n",
    "\n",
    "def preper_final_table(df, list_of_df):\n",
    "    final_df_team1 = pd.DataFrame()\n",
    "    final_df_team2 = pd.DataFrame()\n",
    "    # take every date and teams names\n",
    "    for day, team1, team2 in zip(df['Day'],df['Team 1'],df['Team 2']):\n",
    "        date = str(day)[:10]\n",
    "        year = int(date[:4])\n",
    "\n",
    "        # take the last ten games of team 1, make statistics from them and connect to dataframe\n",
    "        df_team1 = team1_last_ten_games(list_of_df,team1,year,date)\n",
    "        df_team1 = last_ten_static(df_team1,team1)\n",
    "        final_df_team1 = pd.concat([final_df_team1,df_team1])\n",
    "        df_team1 = df_team1[0:0]\n",
    "\n",
    "        # take the last ten games of team 2, make statistics from them and connect to dataframe\n",
    "        df_team2 = team1_last_ten_games(list_of_df,team2,year,date)\n",
    "        df_team2 = last_ten_static(df_team2,team2)\n",
    "        final_df_team2 = pd.concat([final_df_team2,df_team2])\n",
    "        df_team2 = df_team2[0:0]\n",
    "\n",
    "    final_df_team1.rename(columns={'Tgames':'Tgames1','Wgames':'Wgames1','Lgames':'Lgames1',\n",
    "                                       'W%':'W%1','L%':'L%1','Ppoints':'Ppoints1','Npoints':'Npoints1',\n",
    "                                   'PPPWG':'PPPWG1','NPPWG':'NPPWG1','PPPLG':'PPPLG1',\n",
    "                                       'NPPLG':'NPPLG1','DiffT':'DiffT1','DiffW':'DiffW1',\n",
    "                                       'DiffL':'DiffL1','Ratio':'Ratio1'}, inplace=True)\n",
    "    final_df_team2.rename(columns={'Tgames':'Tgames2','Wgames':'Wgames2','Lgames':'Lgames2',\n",
    "                                       'W%':'W%2','L%':'L%2','Ppoints':'Ppoints2','Npoints':'Npoints2',\n",
    "                                   'PPPWG':'PPPWG2','NPPWG':'NPPWG2','PPPLG':'PPPLG2',\n",
    "                                       'NPPLG':'NPPLG2','DiffT':'DiffT2','DiffW':'DiffW2',\n",
    "                                       'DiffL':'DiffL2','Ratio':'Ratio2'}, inplace=True)\n",
    "\n",
    "    final_df_team1 = final_df_team1.reset_index(drop=True)\n",
    "    final_df_team2 = final_df_team2.reset_index(drop=True)\n",
    "    pd2 = pd.concat([final_df_team1,final_df_team2],axis=1)\n",
    "    pd2 = pd2.reset_index(drop=True)\n",
    "    df = pd.concat([df,pd2],axis=1)\n",
    "    return df\n",
    "        "
   ]
  },
  {
   "cell_type": "code",
   "execution_count": 73,
   "metadata": {},
   "outputs": [],
   "source": [
    "# preper_final_table is the function that connect between all the function above her from the last 10 games header\n",
    "# the function will get the list of df that contain all the data and new list to insert the new data that preperd\n",
    "\n",
    "df_proper = pd.DataFrame()\n",
    "for year in range(2021,2001,-1):\n",
    "    temp = preper_final_table(list_of_df[year], list_of_df)\n",
    "    df_proper = pd.concat([df_proper, temp])\n",
    "    temp = temp[0:0]\n",
    "\n",
    "#df_proper is the full dataframe that we sent to machine\n"
   ]
  },
  {
   "cell_type": "code",
   "execution_count": 74,
   "metadata": {},
   "outputs": [
    {
     "name": "stdout",
     "output_type": "stream",
     "text": [
      "All the data tranform successfully\n",
      "\n"
     ]
    }
   ],
   "source": [
    "# Check if all the data will transform\n",
    "\n",
    "counter = 0\n",
    "for year in range(2021,2001,-1):\n",
    "    counter += list_of_df[year].shape[0]\n",
    "if counter == df_proper.shape[0]:\n",
    "    print(\"All the data tranform successfully\\n\")\n",
    "else:\n",
    "    print(\"Not all the data transform\\n\")\n",
    "    "
   ]
  },
  {
   "cell_type": "markdown",
   "metadata": {},
   "source": [
    "### *new data explanation\n",
    "\n",
    "##### Tgames = total games the team played\n",
    "##### Wgames = sum of winning games\n",
    "##### Lgames = sum of lossing games\n",
    "\n",
    "##### W% = winning precent\n",
    "##### L% = lossing precent\n",
    "\n",
    "##### Ppoints = positive points for the team\n",
    "##### Npoints = negative points for the team\n",
    "\n",
    "##### PPPWG = Positive Points Per Game of winning\n",
    "##### NPPWG = Negative Points Per Game of winning\n",
    "##### PPPLG = Positive Points Per Game of lossing\n",
    "##### NPPLG = Negative Points Per Game of lossing\n",
    "\n",
    "##### DiffT = difference between the positive point to negative in total games\n",
    "##### DiffW = difference between the positive point to negative when the team win\n",
    "##### DiffL = difference between the positive point to negative  when the team lose\n",
    "\n",
    "##### Ratio = the ratio between the negative and positive points - more then 1 is good, 1 is even, less then 1 is not good"
   ]
  },
  {
   "cell_type": "markdown",
   "metadata": {},
   "source": [
    "##### Save point 2"
   ]
  },
  {
   "cell_type": "code",
   "execution_count": 75,
   "metadata": {},
   "outputs": [],
   "source": [
    "df_proper.to_csv(r'C:\\Users\\or meyuchas\\JupyterProject\\Data_Sience_project\\data\\df_proper.csv', index = False)"
   ]
  },
  {
   "cell_type": "markdown",
   "metadata": {},
   "source": [
    "##### Load point 2"
   ]
  },
  {
   "cell_type": "code",
   "execution_count": 7,
   "metadata": {},
   "outputs": [],
   "source": [
    "df_proper = pd.read_csv(r'C:\\Users\\or meyuchas\\JupyterProject\\Data_Sience_project\\data\\df_proper.csv')"
   ]
  },
  {
   "cell_type": "markdown",
   "metadata": {},
   "source": [
    "# Visualation"
   ]
  },
  {
   "cell_type": "code",
   "execution_count": 959,
   "metadata": {
    "scrolled": false
   },
   "outputs": [
    {
     "data": {
      "image/png": "[encoded data removed]",
      "text/plain": [
       "<Figure size 576x360 with 1 Axes>"
      ]
     },
     "metadata": {},
     "output_type": "display_data"
    }
   ],
   "source": [
    "# Ditails: \n",
    "# Top 5 teams of 2021 by winning from the begin of the season\n",
    "\n",
    "def top_5(df, col_name):\n",
    "    pt = df[df[col_name] != 'None']\n",
    "    plot_t = pt[col_name].value_counts()[:5]\n",
    "    colors = [(0,0.349,0.737),(1,0.486,0),(0,0.588,0),(0.823,0,0),(0.698,0,0.85)]\n",
    "    fig = plt.figure(figsize=(8,5))\n",
    "    fig.suptitle('Top 5 of 2021', fontsize=25)\n",
    "    plt.style.use('seaborn')\n",
    "    plt.bar(plot_t.index,plot_t.values,width=0.55, color=colors)\n",
    "    plt.bar(plot_t.index,plot_t.values,width=0.55, color=colors)\n",
    "    plt.xlabel('team name', fontsize=16,)\n",
    "    plt.ylabel('number of wins', fontsize=16,rotation=90)\n",
    "    plt.ylim([0,18])\n",
    "    #fig.savefig(r'C:\\Users\\or meyuchas\\JupyterProject\\PersonalProjects\\Perfect_pro\\images\\top_5_of_2021.jpg')\n",
    "    plt.show()\n",
    "    \n",
    "top_5(list_of_df[2021], 'winner_team')"
   ]
  },
  {
   "cell_type": "code",
   "execution_count": 955,
   "metadata": {},
   "outputs": [
    {
     "data": {
      "image/png": "[encoded data removed]",
      "text/plain": [
       "<Figure size 576x396 with 1 Axes>"
      ]
     },
     "metadata": {},
     "output_type": "display_data"
    }
   ],
   "source": [
    "# Ditails:\n",
    "# I have the ratio between the negative and positive points from the last ten games for each team,\n",
    "# i want to check if the team that came to the game with better ratio, is the team that win.\n",
    "def check_contant_between_ratio_and_wins(df_proper):\n",
    "    ratio_plot = df_proper[(df_proper.Tgames1 == 10) & (df_proper.Tgames2 == 10) & (df_proper.winner_team != 'None')]\n",
    "    win_check = ratio_plot.loc[((ratio_plot['Ratio1']>ratio_plot['Ratio2']) & (ratio_plot['Team 1']==ratio_plot['winner_team']))\n",
    "                      | ((ratio_plot['Ratio1'] < ratio_plot['Ratio2']) & (ratio_plot['Team 2']==ratio_plot['winner_team']))]\n",
    "    wins = round((win_check.shape[0] / ratio_plot.shape[0]) * 100 , 2)\n",
    "    lose = 100 - wins\n",
    "    fig1, ax1 = plt.subplots()\n",
    "    ax1.pie([wins , lose],explode=(0.03,0.025),colors=[(0,0.588,0),(0.823,0,0)], labels=['win','lose'], autopct='%1.1f%%',\n",
    "        shadow=True, startangle=50)\n",
    "    ax1.axis('equal')\n",
    "    fig1.suptitle('win VS lose by best ratio', fontsize=18)\n",
    "    #fig1.savefig(r'C:\\Users\\or meyuchas\\JupyterProject\\PersonalProjects\\Perfect_pro\\images\\percentage_wins_by_ratio.jpg')\n",
    "    plt.show()\n",
    "    \n",
    "check_contant_between_ratio_and_wins(df_proper)"
   ]
  },
  {
   "cell_type": "code",
   "execution_count": 956,
   "metadata": {
    "scrolled": false
   },
   "outputs": [
    {
     "data": {
      "image/png": "[encoded data removed]",
      "text/plain": [
       "<Figure size 576x396 with 1 Axes>"
      ]
     },
     "metadata": {},
     "output_type": "display_data"
    }
   ],
   "source": [
    "# Ditails: \n",
    "# check if there is advantage to home team,\n",
    "# and if there was, checking if was a change on the advantage that starts on 2020,\n",
    "# since from that moment the games were played without fans. (Note: I'm not checking if no fans is the reason.\n",
    "# only check if there is change in the last year ,and  i'm just guessing that is the reason)\n",
    "\n",
    "\n",
    "def check_corona_sesson(list_of_df):\n",
    "    p =[]\n",
    "    for k in range(2021,2002,-1):\n",
    "        d = list_of_df[k]\n",
    "        c = 0\n",
    "        non = 0\n",
    "        for i in d['winner_team']:\n",
    "            if i == 'None':\n",
    "                non += 1\n",
    "\n",
    "        for i,j in zip(d['Team 1'],d['winner_team']):\n",
    "            if i == j:\n",
    "                c += 1\n",
    "\n",
    "        a = list_of_df[k].shape[0] - non\n",
    "        r = round((c/a) * 100,2)\n",
    "        p.append(r)\n",
    "        \n",
    "    fig = plt.figure()\n",
    "    plt.plot([x for x in range(2021,2002,-1)],p)\n",
    "    plt.axvline(x=2020, label='line at x = 2020', c='k', ls='--', lw=2)\n",
    "    #plt.hlines(y=62,xmin=2002.5,xmax=2022, label='line at y = 62', color='k', ls='--', lw=2)\n",
    "    fig.suptitle('Percentage of home wins per season', fontsize=20)\n",
    "    plt.xlabel('Year', fontsize=16,)\n",
    "    plt.ylabel('Home wins present', fontsize=16,rotation=90)\n",
    "    plt.xlim([2002.5 ,2021.5]) \n",
    "    plt.ylim([54,67])\n",
    "    plt.fill_between([x for x in range(2021,2002,-1)],p,alpha=0.30)\n",
    "    #fig.savefig(r'C:\\Users\\or meyuchas\\JupyterProject\\PersonalProjects\\Perfect_pro\\images\\percentage_home_wins.jpg')\n",
    "    plt.show()\n",
    "    \n",
    "check_corona_sesson(list_of_df)"
   ]
  },
  {
   "cell_type": "code",
   "execution_count": 31,
   "metadata": {},
   "outputs": [
    {
     "data": {
      "image/png": "[encoded data removed]",
      "text/plain": [
       "<Figure size 576x576 with 2 Axes>"
      ]
     },
     "metadata": {},
     "output_type": "display_data"
    }
   ],
   "source": [
    "# Ditails: \n",
    "# checking correlation between wins precents and ratio\n",
    "\n",
    "def correlation(df_proper):\n",
    "    plot_sns = df_proper[(df_proper.Tgames1 == 10) & (df_proper.Tgames2 == 10) & (df_proper.winner_team != 'None')]\n",
    "    fig2 = plt.figure(figsize=(8,8))\n",
    "\n",
    "    plt.axvline(50, c=(0.5,0.5,0.5), ls='--')\n",
    "    plt.axhline(1, c=(0.5,0.5,0.5), ls='--')\n",
    "    plt.style.use('seaborn')\n",
    "    plt.scatter(plot_sns['W%1'],plot_sns['Ratio1'],c=plot_sns['Ratio1'],cmap='RdYlGn')\n",
    "    fig2.suptitle('Correlation between wins and ratio', fontsize=20)\n",
    "    plt.xlabel('win precents', fontsize=14)\n",
    "    plt.ylabel('Ratio', fontsize=14,rotation=90)\n",
    "    plt.colorbar(orientation='horizontal')\n",
    "    #fig2.savefig(r'C:\\Users\\or meyuchas\\JupyterProject\\PersonalProjects\\Perfect_pro\\images\\corellation.jpg')\n",
    "\n",
    "correlation(df_proper)"
   ]
  },
  {
   "cell_type": "markdown",
   "metadata": {},
   "source": [
    "##### Search corolation"
   ]
  },
  {
   "cell_type": "code",
   "execution_count": 779,
   "metadata": {},
   "outputs": [],
   "source": [
    "# Ditails: \n",
    "# checking for correlation \n",
    "\n",
    "def get_highly_correlated_cols(df):\n",
    "    corr = df.corr()\n",
    "    arr_index =[]\n",
    "    arr_value =[]\n",
    "    size = len(corr)\n",
    "    for col in range(size):\n",
    "        for row in range(col+1,size):\n",
    "            if (corr.iloc[col,row]>0.7) & (corr.iloc[col,row]<0.9):\n",
    "                arr_index.append((col,row))\n",
    "                arr_value.append(corr.iloc[col,row])\n",
    "    return(arr_value,arr_index)"
   ]
  },
  {
   "cell_type": "code",
   "execution_count": 780,
   "metadata": {},
   "outputs": [],
   "source": [
    "cols_for_correlations = ['Wgames1', 'Lgames1', 'W%1', 'L%1',\n",
    "                           'Ppoints1', 'Npoints1', 'PPPWG1', 'NPPWG1', 'PPPLG1', 'NPPLG1',\n",
    "                               'DiffT1', 'DiffW1', 'DiffL1', 'Ratio1', 'Wgames2', 'Lgames2',\n",
    "                           'W%2', 'L%2', 'Ppoints2', 'Npoints2', 'PPPWG2', 'NPPWG2', 'PPPLG2',\n",
    "                                   'NPPLG2', 'DiffT2', 'DiffW2', 'DiffL2', 'Ratio2']\n"
   ]
  },
  {
   "cell_type": "code",
   "execution_count": 781,
   "metadata": {},
   "outputs": [],
   "source": [
    "correlations, tuple_arr = get_highly_correlated_cols(df_proper[cols_for_correlations])\n",
    "indx_sort = np.argsort(correlations)"
   ]
  },
  {
   "cell_type": "code",
   "execution_count": 783,
   "metadata": {},
   "outputs": [],
   "source": [
    "data = {'Col_1':[], 'Col_2':[],'Corr':[]}\n",
    "for n_correlation in indx_sort:\n",
    "    col_lt, col_rt = tuple_arr[n_correlation]\n",
    "    col_name_lt, col_name_rt = cols_for_correlations[col_lt], cols_for_correlations[col_rt]\n",
    "    data['Col_1'].append(col_name_lt)\n",
    "    data['Col_2'].append(col_name_rt)\n",
    "    data['Corr'].append(correlations[n_correlation])\n",
    "\n",
    "df_corr = pd.DataFrame(data, columns = ['Col_1', 'Col_2','Corr'])     "
   ]
  },
  {
   "cell_type": "code",
   "execution_count": 863,
   "metadata": {},
   "outputs": [
    {
     "data": {
      "text/html": [
       "<div>\n",
       "<style scoped>\n",
       "    .dataframe tbody tr th:only-of-type {\n",
       "        vertical-align: middle;\n",
       "    }\n",
       "\n",
       "    .dataframe tbody tr th {\n",
       "        vertical-align: top;\n",
       "    }\n",
       "\n",
       "    .dataframe thead th {\n",
       "        text-align: right;\n",
       "    }\n",
       "</style>\n",
       "<table border=\"1\" class=\"dataframe\">\n",
       "  <thead>\n",
       "    <tr style=\"text-align: right;\">\n",
       "      <th></th>\n",
       "      <th>Col_1</th>\n",
       "      <th>Col_2</th>\n",
       "      <th>Corr</th>\n",
       "    </tr>\n",
       "  </thead>\n",
       "  <tbody>\n",
       "    <tr>\n",
       "      <th>0</th>\n",
       "      <td>W%1</td>\n",
       "      <td>DiffT1</td>\n",
       "      <td>0.700461</td>\n",
       "    </tr>\n",
       "    <tr>\n",
       "      <th>1</th>\n",
       "      <td>Wgames2</td>\n",
       "      <td>DiffT2</td>\n",
       "      <td>0.703396</td>\n",
       "    </tr>\n",
       "    <tr>\n",
       "      <th>2</th>\n",
       "      <td>W%2</td>\n",
       "      <td>DiffT2</td>\n",
       "      <td>0.704604</td>\n",
       "    </tr>\n",
       "    <tr>\n",
       "      <th>3</th>\n",
       "      <td>DiffW2</td>\n",
       "      <td>Ratio2</td>\n",
       "      <td>0.707254</td>\n",
       "    </tr>\n",
       "    <tr>\n",
       "      <th>4</th>\n",
       "      <td>DiffW1</td>\n",
       "      <td>Ratio1</td>\n",
       "      <td>0.710806</td>\n",
       "    </tr>\n",
       "    <tr>\n",
       "      <th>5</th>\n",
       "      <td>Wgames1</td>\n",
       "      <td>Ratio1</td>\n",
       "      <td>0.764821</td>\n",
       "    </tr>\n",
       "    <tr>\n",
       "      <th>6</th>\n",
       "      <td>Wgames2</td>\n",
       "      <td>Ratio2</td>\n",
       "      <td>0.765001</td>\n",
       "    </tr>\n",
       "    <tr>\n",
       "      <th>7</th>\n",
       "      <td>W%1</td>\n",
       "      <td>Ratio1</td>\n",
       "      <td>0.768986</td>\n",
       "    </tr>\n",
       "    <tr>\n",
       "      <th>8</th>\n",
       "      <td>W%2</td>\n",
       "      <td>Ratio2</td>\n",
       "      <td>0.770060</td>\n",
       "    </tr>\n",
       "  </tbody>\n",
       "</table>\n",
       "</div>"
      ],
      "text/plain": [
       "     Col_1   Col_2      Corr\n",
       "0      W%1  DiffT1  0.700461\n",
       "1  Wgames2  DiffT2  0.703396\n",
       "2      W%2  DiffT2  0.704604\n",
       "3   DiffW2  Ratio2  0.707254\n",
       "4   DiffW1  Ratio1  0.710806\n",
       "5  Wgames1  Ratio1  0.764821\n",
       "6  Wgames2  Ratio2  0.765001\n",
       "7      W%1  Ratio1  0.768986\n",
       "8      W%2  Ratio2  0.770060"
      ]
     },
     "execution_count": 863,
     "metadata": {},
     "output_type": "execute_result"
    }
   ],
   "source": [
    "df_corr"
   ]
  },
  {
   "cell_type": "markdown",
   "metadata": {},
   "source": [
    "# Machine Learning"
   ]
  },
  {
   "cell_type": "code",
   "execution_count": 12,
   "metadata": {},
   "outputs": [
    {
     "name": "stdout",
     "output_type": "stream",
     "text": [
      "930 rows are droped\n",
      "\n"
     ]
    }
   ],
   "source": [
    "# Drop rows without last 10 games statistics or not played\n",
    "\n",
    "ML = df_proper[(df_proper.Tgames1 == 10) & (df_proper.Tgames2 == 10) & (df_proper.winner_team != 'None')]\n",
    "\n",
    "print(df_proper.shape[0] - ML.shape[0],\"rows are droped\\n\")\n"
   ]
  },
  {
   "cell_type": "code",
   "execution_count": 13,
   "metadata": {},
   "outputs": [],
   "source": [
    "# Creat column of binary value by who win- home team = 1, away team = 0\n",
    "\n",
    "def creat_binary_column(ML):\n",
    "    lst = []\n",
    "    for i,j in zip(ML['Team 1'], ML['winner_team']):\n",
    "        if i == j:\n",
    "            lst.append(1)\n",
    "        else:\n",
    "            lst.append(0)\n",
    "    #ML['winner_team_binary'] = lst.values\n",
    "    #return ML\n",
    "    return lst\n",
    "\n",
    "\n",
    "lst = creat_binary_column(ML)\n",
    "ML.insert(loc=0, column='winner_team_binary', value=lst)"
   ]
  },
  {
   "cell_type": "markdown",
   "metadata": {},
   "source": [
    "##### Split to train and test"
   ]
  },
  {
   "cell_type": "code",
   "execution_count": 16,
   "metadata": {},
   "outputs": [],
   "source": [
    "def split_train_and_test(ML):\n",
    "    good = []\n",
    "    junk = ['League','Day','Team 1','Team 2','team_A_score','team_B_score','winner_team','winner_team_binary','Tgames1','Tgames2']\n",
    "    for j in ML.columns:\n",
    "        if j not in junk:\n",
    "            good.append(j)\n",
    "    X = ML[good]\n",
    "    y = ML['winner_team_binary']\n",
    "    X_train, X_test, y_train, y_test = train_test_split(X, y, test_size=0.2, random_state=55)\n",
    "    return X_train, X_test, y_train, y_test\n",
    "\n",
    "X_train, X_test, y_train, y_test = split_train_and_test(ML)\n"
   ]
  },
  {
   "cell_type": "code",
   "execution_count": 930,
   "metadata": {},
   "outputs": [],
   "source": [
    "# Models\n",
    "\n",
    "def logistic_regression(X_train, y_train):\n",
    "    clf = LogisticRegression().fit(X_train, y_train)\n",
    "    return clf\n",
    "\n",
    "def KNN(X_train, y_train):\n",
    "    best_k = find_best_K(X_train, y_train)\n",
    "    params = {'n_neighbors':best_k}\n",
    "    clf = KNeighborsClassifier(n_neighbors=params['n_neighbors']).fit(X_train, y_train)\n",
    "    print(\"Best K is:\",best_k,\"\\n\")\n",
    "    return clf\n",
    "\n",
    "def find_best_K(X_train, y_train):\n",
    "    parameters = {'n_neighbors':[x for x in range(3,20,2)]}\n",
    "    knn = KNeighborsClassifier()\n",
    "    clf = GridSearchCV(knn, parameters, scoring=make_scorer(metrics.accuracy_score, greater_is_better=True))\n",
    "    clf.fit(X_train, y_train)\n",
    "    best_K = clf.best_params_['n_neighbors']\n",
    "    return best_K\n",
    "\n",
    "def decision_tree(X_train, y_train):\n",
    "    best_max_depth, best_min_samples_split = find_best_decision_tree_params(X_train, y_train)\n",
    "    params = {'max_depth':best_max_depth, 'min_samples_split':best_min_samples_split}\n",
    "    clf = DecisionTreeClassifier(max_depth=params['max_depth'],\n",
    "                                 min_samples_split=params['min_samples_split']).fit(X_train, y_train)\n",
    "    print(\"Best max depth is:\",best_max_depth,\"\\n\")\n",
    "    print(\"Best min samples split:\",best_min_samples_split,\"\\n\")\n",
    "    return clf    \n",
    "    \n",
    "def find_best_decision_tree_params(X_train, y_train):\n",
    "    parameters = {'max_depth':[2,4,6,8,10], 'min_samples_split':[5,10,15,20]}\n",
    "    dt = tree.DecisionTreeClassifier()\n",
    "    clf = GridSearchCV(dt,parameters,scoring=make_scorer(metrics.accuracy_score, greater_is_better=True))\n",
    "    clf.fit(X_train, y_train)\n",
    "    best_max_depth = clf.best_params_['max_depth']\n",
    "    best_min_samples_split = clf.best_params_['min_samples_split']\n",
    "    return best_max_depth, best_min_samples_split\n"
   ]
  },
  {
   "cell_type": "code",
   "execution_count": 931,
   "metadata": {},
   "outputs": [],
   "source": [
    "# Display confusion matrix of each model\n",
    "\n",
    "def evo_met(y_test , y_pred,name):   \n",
    "    evo = metrics.confusion_matrix(y_test , y_pred)\n",
    "    df_confusion = pd.DataFrame(evo , index=['Actual Negative','Actual Positive'],columns=['Predicted Negative','Predicted Positive'])\n",
    "    print(\"confusion matrix of\",name,\"is:\\n\")\n",
    "    display(df_confusion)"
   ]
  },
  {
   "cell_type": "code",
   "execution_count": 605,
   "metadata": {},
   "outputs": [],
   "source": [
    "# Scale the data\n",
    "\n",
    "scaler = StandardScaler()\n",
    "X_scale_train = scaler.fit_transform(X_train)\n",
    "X_scale_test = scaler.transform(X_test)"
   ]
  },
  {
   "cell_type": "code",
   "execution_count": 946,
   "metadata": {},
   "outputs": [],
   "source": [
    "# Lists\n",
    "\n",
    "category = ['accuracy','precision','recall','f1_score']\n",
    "machine = ['logistic_regression','KNN','decision_tree']\n",
    "train = []\n",
    "test = []\n"
   ]
  },
  {
   "cell_type": "markdown",
   "metadata": {},
   "source": [
    "##### logistic_regression"
   ]
  },
  {
   "cell_type": "code",
   "execution_count": 947,
   "metadata": {},
   "outputs": [],
   "source": [
    "LR_clf = logistic_regression(X_scale_train, y_train)"
   ]
  },
  {
   "cell_type": "code",
   "execution_count": 948,
   "metadata": {},
   "outputs": [
    {
     "name": "stdout",
     "output_type": "stream",
     "text": [
      "confusion matrix of logistic regression train is:\n",
      "\n"
     ]
    },
    {
     "data": {
      "text/html": [
       "<div>\n",
       "<style scoped>\n",
       "    .dataframe tbody tr th:only-of-type {\n",
       "        vertical-align: middle;\n",
       "    }\n",
       "\n",
       "    .dataframe tbody tr th {\n",
       "        vertical-align: top;\n",
       "    }\n",
       "\n",
       "    .dataframe thead th {\n",
       "        text-align: right;\n",
       "    }\n",
       "</style>\n",
       "<table border=\"1\" class=\"dataframe\">\n",
       "  <thead>\n",
       "    <tr style=\"text-align: right;\">\n",
       "      <th></th>\n",
       "      <th>Predicted Negative</th>\n",
       "      <th>Predicted Positive</th>\n",
       "    </tr>\n",
       "  </thead>\n",
       "  <tbody>\n",
       "    <tr>\n",
       "      <th>Actual Negative</th>\n",
       "      <td>465</td>\n",
       "      <td>691</td>\n",
       "    </tr>\n",
       "    <tr>\n",
       "      <th>Actual Positive</th>\n",
       "      <td>292</td>\n",
       "      <td>1593</td>\n",
       "    </tr>\n",
       "  </tbody>\n",
       "</table>\n",
       "</div>"
      ],
      "text/plain": [
       "                 Predicted Negative  Predicted Positive\n",
       "Actual Negative                 465                 691\n",
       "Actual Positive                 292                1593"
      ]
     },
     "metadata": {},
     "output_type": "display_data"
    }
   ],
   "source": [
    "LR_y_pred_train = LR_clf.predict(X_scale_train)\n",
    "train.append(round(metrics.accuracy_score(y_train, LR_y_pred_train), 5))\n",
    "evo_met(y_train, LR_y_pred_train,'logistic regression train')"
   ]
  },
  {
   "cell_type": "code",
   "execution_count": 949,
   "metadata": {},
   "outputs": [
    {
     "name": "stdout",
     "output_type": "stream",
     "text": [
      "confusion matrix of logistic regression test is:\n",
      "\n"
     ]
    },
    {
     "data": {
      "text/html": [
       "<div>\n",
       "<style scoped>\n",
       "    .dataframe tbody tr th:only-of-type {\n",
       "        vertical-align: middle;\n",
       "    }\n",
       "\n",
       "    .dataframe tbody tr th {\n",
       "        vertical-align: top;\n",
       "    }\n",
       "\n",
       "    .dataframe thead th {\n",
       "        text-align: right;\n",
       "    }\n",
       "</style>\n",
       "<table border=\"1\" class=\"dataframe\">\n",
       "  <thead>\n",
       "    <tr style=\"text-align: right;\">\n",
       "      <th></th>\n",
       "      <th>Predicted Negative</th>\n",
       "      <th>Predicted Positive</th>\n",
       "    </tr>\n",
       "  </thead>\n",
       "  <tbody>\n",
       "    <tr>\n",
       "      <th>Actual Negative</th>\n",
       "      <td>111</td>\n",
       "      <td>154</td>\n",
       "    </tr>\n",
       "    <tr>\n",
       "      <th>Actual Positive</th>\n",
       "      <td>73</td>\n",
       "      <td>423</td>\n",
       "    </tr>\n",
       "  </tbody>\n",
       "</table>\n",
       "</div>"
      ],
      "text/plain": [
       "                 Predicted Negative  Predicted Positive\n",
       "Actual Negative                 111                 154\n",
       "Actual Positive                  73                 423"
      ]
     },
     "metadata": {},
     "output_type": "display_data"
    }
   ],
   "source": [
    "LR_y_pred_test = LR_clf.predict(X_scale_test)\n",
    "test.append(round(metrics.accuracy_score(y_test, LR_y_pred_test), 5))\n",
    "evo_met(y_test, LR_y_pred_test,'logistic regression test')"
   ]
  },
  {
   "cell_type": "code",
   "execution_count": 935,
   "metadata": {},
   "outputs": [
    {
     "data": {
      "image/png": "[encoded data removed]",
      "text/plain": [
       "<Figure size 576x396 with 1 Axes>"
      ]
     },
     "metadata": {},
     "output_type": "display_data"
    }
   ],
   "source": [
    "LR_train = []\n",
    "LR_test = []\n",
    "\n",
    "# train\n",
    "LR_train.append(round(metrics.accuracy_score(y_train, LR_y_pred_train), 5))\n",
    "LR_train.append(round(metrics.precision_score(y_train, LR_y_pred_train), 5))\n",
    "LR_train.append(round(metrics.recall_score(y_train, LR_y_pred_train), 5))\n",
    "LR_train.append(round(metrics.f1_score(y_train, LR_y_pred_train), 5))\n",
    "# test\n",
    "LR_test.append(round(metrics.accuracy_score(y_test, LR_y_pred_test), 5))\n",
    "LR_test.append(round(metrics.precision_score(y_test, LR_y_pred_test), 5))\n",
    "LR_test.append(round(metrics.recall_score(y_test, LR_y_pred_test), 5))\n",
    "LR_test.append(round(metrics.f1_score(y_test, LR_y_pred_test), 5))\n",
    "# plot\n",
    "plotplot(category,LR_train,LR_test,'Logistic_Regression')"
   ]
  },
  {
   "cell_type": "markdown",
   "metadata": {},
   "source": [
    "##### KNN"
   ]
  },
  {
   "cell_type": "code",
   "execution_count": 936,
   "metadata": {},
   "outputs": [
    {
     "name": "stdout",
     "output_type": "stream",
     "text": [
      "Best K is: 17 \n",
      "\n"
     ]
    }
   ],
   "source": [
    "knn_clf = KNN(X_scale_train, y_train)"
   ]
  },
  {
   "cell_type": "code",
   "execution_count": 950,
   "metadata": {},
   "outputs": [
    {
     "name": "stdout",
     "output_type": "stream",
     "text": [
      "confusion matrix of KNN train is:\n",
      "\n"
     ]
    },
    {
     "data": {
      "text/html": [
       "<div>\n",
       "<style scoped>\n",
       "    .dataframe tbody tr th:only-of-type {\n",
       "        vertical-align: middle;\n",
       "    }\n",
       "\n",
       "    .dataframe tbody tr th {\n",
       "        vertical-align: top;\n",
       "    }\n",
       "\n",
       "    .dataframe thead th {\n",
       "        text-align: right;\n",
       "    }\n",
       "</style>\n",
       "<table border=\"1\" class=\"dataframe\">\n",
       "  <thead>\n",
       "    <tr style=\"text-align: right;\">\n",
       "      <th></th>\n",
       "      <th>Predicted Negative</th>\n",
       "      <th>Predicted Positive</th>\n",
       "    </tr>\n",
       "  </thead>\n",
       "  <tbody>\n",
       "    <tr>\n",
       "      <th>Actual Negative</th>\n",
       "      <td>552</td>\n",
       "      <td>604</td>\n",
       "    </tr>\n",
       "    <tr>\n",
       "      <th>Actual Positive</th>\n",
       "      <td>308</td>\n",
       "      <td>1577</td>\n",
       "    </tr>\n",
       "  </tbody>\n",
       "</table>\n",
       "</div>"
      ],
      "text/plain": [
       "                 Predicted Negative  Predicted Positive\n",
       "Actual Negative                 552                 604\n",
       "Actual Positive                 308                1577"
      ]
     },
     "metadata": {},
     "output_type": "display_data"
    }
   ],
   "source": [
    "knn_y_pred_train = knn_clf.predict(X_scale_train)\n",
    "train.append(round(metrics.accuracy_score(y_train, knn_y_pred_train), 5))\n",
    "evo_met(y_train, knn_y_pred_train,'KNN train')"
   ]
  },
  {
   "cell_type": "code",
   "execution_count": 951,
   "metadata": {},
   "outputs": [
    {
     "name": "stdout",
     "output_type": "stream",
     "text": [
      "confusion matrix of KNN test is:\n",
      "\n"
     ]
    },
    {
     "data": {
      "text/html": [
       "<div>\n",
       "<style scoped>\n",
       "    .dataframe tbody tr th:only-of-type {\n",
       "        vertical-align: middle;\n",
       "    }\n",
       "\n",
       "    .dataframe tbody tr th {\n",
       "        vertical-align: top;\n",
       "    }\n",
       "\n",
       "    .dataframe thead th {\n",
       "        text-align: right;\n",
       "    }\n",
       "</style>\n",
       "<table border=\"1\" class=\"dataframe\">\n",
       "  <thead>\n",
       "    <tr style=\"text-align: right;\">\n",
       "      <th></th>\n",
       "      <th>Predicted Negative</th>\n",
       "      <th>Predicted Positive</th>\n",
       "    </tr>\n",
       "  </thead>\n",
       "  <tbody>\n",
       "    <tr>\n",
       "      <th>Actual Negative</th>\n",
       "      <td>114</td>\n",
       "      <td>151</td>\n",
       "    </tr>\n",
       "    <tr>\n",
       "      <th>Actual Positive</th>\n",
       "      <td>86</td>\n",
       "      <td>410</td>\n",
       "    </tr>\n",
       "  </tbody>\n",
       "</table>\n",
       "</div>"
      ],
      "text/plain": [
       "                 Predicted Negative  Predicted Positive\n",
       "Actual Negative                 114                 151\n",
       "Actual Positive                  86                 410"
      ]
     },
     "metadata": {},
     "output_type": "display_data"
    }
   ],
   "source": [
    "knn_y_pred_test = knn_clf.predict(X_scale_test)\n",
    "test.append(round(metrics.accuracy_score(y_test, knn_y_pred_test), 5))\n",
    "evo_met(y_test, knn_y_pred_test,'KNN test')"
   ]
  },
  {
   "cell_type": "code",
   "execution_count": 939,
   "metadata": {
    "scrolled": false
   },
   "outputs": [
    {
     "data": {
      "image/png": "[encoded data removed]",
      "text/plain": [
       "<Figure size 576x396 with 1 Axes>"
      ]
     },
     "metadata": {},
     "output_type": "display_data"
    }
   ],
   "source": [
    "knn_train = []\n",
    "knn_test = []\n",
    "\n",
    "# train\n",
    "knn_train.append(round(metrics.accuracy_score(y_train, knn_y_pred_train), 5))\n",
    "knn_train.append(round(metrics.precision_score(y_train, knn_y_pred_train), 5))\n",
    "knn_train.append(round(metrics.recall_score(y_train, knn_y_pred_train), 5))\n",
    "knn_train.append(round(metrics.f1_score(y_train, knn_y_pred_train), 5))\n",
    "# test\n",
    "knn_test.append(round(metrics.accuracy_score(y_test, knn_y_pred_test), 5))\n",
    "knn_test.append(round(metrics.precision_score(y_test, knn_y_pred_test), 5))\n",
    "knn_test.append(round(metrics.recall_score(y_test, knn_y_pred_test), 5))\n",
    "knn_test.append(round(metrics.f1_score(y_test, knn_y_pred_test), 5))\n",
    "# plot\n",
    "plotplot(category,knn_train,knn_test,'K_Nearest_Neighbors')"
   ]
  },
  {
   "cell_type": "markdown",
   "metadata": {},
   "source": [
    "##### decision_tree"
   ]
  },
  {
   "cell_type": "code",
   "execution_count": 940,
   "metadata": {},
   "outputs": [
    {
     "name": "stdout",
     "output_type": "stream",
     "text": [
      "Best max depth is: 2 \n",
      "\n",
      "Best min samples split: 10 \n",
      "\n"
     ]
    }
   ],
   "source": [
    "DT_clf = decision_tree(X_scale_train, y_train)"
   ]
  },
  {
   "cell_type": "code",
   "execution_count": 952,
   "metadata": {},
   "outputs": [
    {
     "name": "stdout",
     "output_type": "stream",
     "text": [
      "confusion matrix of decision tree train is:\n",
      "\n"
     ]
    },
    {
     "data": {
      "text/html": [
       "<div>\n",
       "<style scoped>\n",
       "    .dataframe tbody tr th:only-of-type {\n",
       "        vertical-align: middle;\n",
       "    }\n",
       "\n",
       "    .dataframe tbody tr th {\n",
       "        vertical-align: top;\n",
       "    }\n",
       "\n",
       "    .dataframe thead th {\n",
       "        text-align: right;\n",
       "    }\n",
       "</style>\n",
       "<table border=\"1\" class=\"dataframe\">\n",
       "  <thead>\n",
       "    <tr style=\"text-align: right;\">\n",
       "      <th></th>\n",
       "      <th>Predicted Negative</th>\n",
       "      <th>Predicted Positive</th>\n",
       "    </tr>\n",
       "  </thead>\n",
       "  <tbody>\n",
       "    <tr>\n",
       "      <th>Actual Negative</th>\n",
       "      <td>396</td>\n",
       "      <td>760</td>\n",
       "    </tr>\n",
       "    <tr>\n",
       "      <th>Actual Positive</th>\n",
       "      <td>245</td>\n",
       "      <td>1640</td>\n",
       "    </tr>\n",
       "  </tbody>\n",
       "</table>\n",
       "</div>"
      ],
      "text/plain": [
       "                 Predicted Negative  Predicted Positive\n",
       "Actual Negative                 396                 760\n",
       "Actual Positive                 245                1640"
      ]
     },
     "metadata": {},
     "output_type": "display_data"
    }
   ],
   "source": [
    "DT_y_pred_train = DT_clf.predict(X_scale_train)\n",
    "train.append(round(metrics.accuracy_score(y_train, DT_y_pred_train), 5))\n",
    "evo_met(y_train, DT_y_pred_train,'decision tree train')"
   ]
  },
  {
   "cell_type": "code",
   "execution_count": 953,
   "metadata": {},
   "outputs": [
    {
     "name": "stdout",
     "output_type": "stream",
     "text": [
      "confusion matrix of decision tree test is:\n",
      "\n"
     ]
    },
    {
     "data": {
      "text/html": [
       "<div>\n",
       "<style scoped>\n",
       "    .dataframe tbody tr th:only-of-type {\n",
       "        vertical-align: middle;\n",
       "    }\n",
       "\n",
       "    .dataframe tbody tr th {\n",
       "        vertical-align: top;\n",
       "    }\n",
       "\n",
       "    .dataframe thead th {\n",
       "        text-align: right;\n",
       "    }\n",
       "</style>\n",
       "<table border=\"1\" class=\"dataframe\">\n",
       "  <thead>\n",
       "    <tr style=\"text-align: right;\">\n",
       "      <th></th>\n",
       "      <th>Predicted Negative</th>\n",
       "      <th>Predicted Positive</th>\n",
       "    </tr>\n",
       "  </thead>\n",
       "  <tbody>\n",
       "    <tr>\n",
       "      <th>Actual Negative</th>\n",
       "      <td>84</td>\n",
       "      <td>181</td>\n",
       "    </tr>\n",
       "    <tr>\n",
       "      <th>Actual Positive</th>\n",
       "      <td>65</td>\n",
       "      <td>431</td>\n",
       "    </tr>\n",
       "  </tbody>\n",
       "</table>\n",
       "</div>"
      ],
      "text/plain": [
       "                 Predicted Negative  Predicted Positive\n",
       "Actual Negative                  84                 181\n",
       "Actual Positive                  65                 431"
      ]
     },
     "metadata": {},
     "output_type": "display_data"
    }
   ],
   "source": [
    "DT_y_pred_test = DT_clf.predict(X_scale_test)\n",
    "test.append(round(metrics.accuracy_score(y_test, DT_y_pred_test), 5))\n",
    "evo_met(y_test, DT_y_pred_test,'decision tree test')"
   ]
  },
  {
   "cell_type": "code",
   "execution_count": 943,
   "metadata": {},
   "outputs": [
    {
     "data": {
      "image/png": "[encoded data removed]",
      "text/plain": [
       "<Figure size 576x396 with 1 Axes>"
      ]
     },
     "metadata": {},
     "output_type": "display_data"
    }
   ],
   "source": [
    "DT_train = []\n",
    "DT_test = []\n",
    "\n",
    "# train\n",
    "DT_train.append(round(metrics.accuracy_score(y_train, DT_y_pred_train), 5))\n",
    "DT_train.append(round(metrics.precision_score(y_train, DT_y_pred_train), 5))\n",
    "DT_train.append(round(metrics.recall_score(y_train, DT_y_pred_train), 5))\n",
    "DT_train.append(round(metrics.f1_score(y_train, DT_y_pred_train), 5))\n",
    "# test\n",
    "DT_test.append(round(metrics.accuracy_score(y_test, DT_y_pred_test), 5))\n",
    "DT_test.append(round(metrics.precision_score(y_test, DT_y_pred_test), 5))\n",
    "DT_test.append(round(metrics.recall_score(y_test, DT_y_pred_test), 5))\n",
    "DT_test.append(round(metrics.f1_score(y_test, DT_y_pred_test), 5))\n",
    "# plot\n",
    "plotplot(category,DT_train,DT_test,'Decision_Tree')"
   ]
  },
  {
   "cell_type": "markdown",
   "metadata": {},
   "source": [
    "##### Compare models by accuracy"
   ]
  },
  {
   "cell_type": "code",
   "execution_count": 960,
   "metadata": {},
   "outputs": [
    {
     "data": {
      "image/png": "[encoded data removed]",
      "text/plain": [
       "<Figure size 576x396 with 1 Axes>"
      ]
     },
     "metadata": {},
     "output_type": "display_data"
    }
   ],
   "source": [
    "def plotplot(machine,train,test,name):\n",
    "    x = np.arange(len(machine))  # the label locations\n",
    "    width = 0.35  # the width of the bars\n",
    "\n",
    "    fig, ax = plt.subplots()\n",
    "    rects1 = ax.bar(x - width/2, train, width, label='Train',color=(1,0.486,0))\n",
    "    rects2 = ax.bar(x + width/2, test, width, label='Test',color=(0,0.588,0))\n",
    "\n",
    "    # Add some text for labels, title and custom x-axis tick labels, etc.\n",
    "    ax.set_ylabel('Scores')\n",
    "    ax.set_title(name)\n",
    "    ax.set_xticks(x)\n",
    "    ax.set_xticklabels(machine)\n",
    "    ax.legend()\n",
    "\n",
    "\n",
    "    def autolabel(rects):\n",
    "        \"\"\"Attach a text label above each bar in *rects*, displaying its height.\"\"\"\n",
    "        for rect in rects:\n",
    "            height = rect.get_height()\n",
    "            ax.annotate('{}'.format(height),\n",
    "                        xy=(rect.get_x() + rect.get_width() / 2, height),\n",
    "                        xytext=(0, 3),  # 3 points vertical offset\n",
    "                        textcoords=\"offset points\",\n",
    "                        ha='center', va='bottom')\n",
    "\n",
    "\n",
    "    autolabel(rects1)\n",
    "    autolabel(rects2)\n",
    "\n",
    "    fig.tight_layout()\n",
    "    #fig.savefig(r'C:\\Users\\or meyuchas\\JupyterProject\\PersonalProjects\\Perfect_pro\\images\\{}.jpg'.format(name))\n",
    "    plt.show()\n",
    "    \n",
    "plotplot(machine,train,test,'Scores_of_ML')"
   ]
  }
 ],
 "metadata": {
  "kernelspec": {
   "display_name": "Python 3",
   "language": "python",
   "name": "python3"
  },
  "language_info": {
   "codemirror_mode": {
    "name": "ipython",
    "version": 3
   },
   "file_extension": ".py",
   "mimetype": "text/x-python",
   "name": "python",
   "nbconvert_exporter": "python",
   "pygments_lexer": "ipython3",
   "version": "3.8.3"
  }
 },
 "nbformat": 4,
 "nbformat_minor": 4
}
